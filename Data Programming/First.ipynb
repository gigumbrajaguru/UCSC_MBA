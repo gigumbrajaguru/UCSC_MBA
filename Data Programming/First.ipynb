{
 "cells": [
  {
   "cell_type": "code",
   "execution_count": 1,
   "id": "5eabfe9f-8073-4f1a-83ac-3e0608bdc803",
   "metadata": {},
   "outputs": [
    {
     "data": {
      "text/plain": [
       "'3.5 or Above First Class\\nGreater than or equal to 3.25 and less than 3.5 Second Upper\\nGreater than or equal to 3.00 and less than 3.25 Second Lower\\nGreater than or equal to 2.00 and less than 3.00 Pass\\nLess than 2.0 Fail'"
      ]
     },
     "execution_count": 1,
     "metadata": {},
     "output_type": "execute_result"
    }
   ],
   "source": [
    "\"\"\"3.5 or Above First Class\n",
    "Greater than or equal to 3.25 and less than 3.5 Second Upper\n",
    "Greater than or equal to 3.00 and less than 3.25 Second Lower\n",
    "Greater than or equal to 2.00 and less than 3.00 Pass\n",
    "Less than 2.0 Fail\"\"\""
   ]
  },
  {
   "cell_type": "code",
   "execution_count": 2,
   "id": "c21ab482-28e3-41fd-a58b-a4e226026899",
   "metadata": {},
   "outputs": [
    {
     "name": "stdin",
     "output_type": "stream",
     "text": [
      "Add gpa 4\n"
     ]
    },
    {
     "name": "stdout",
     "output_type": "stream",
     "text": [
      "First Class\n"
     ]
    }
   ],
   "source": [
    "gpa = float(input(\"Add gpa\"))\n",
    "if gpa > 3.5:\n",
    "    print(\"First Class\")\n",
    "elif gpa > 3.25 and gpa < 3.5:\n",
    "    print(\"Second Class\")\n",
    "elif gpa > 3.00 and gpa < 3.25:\n",
    "    print(\"Second Class Lower\")\n",
    "elif gpa > 2.00 and gpa < 3.0:\n",
    "    print(\"pass\")\n",
    "else:\n",
    "    print(\"Fail\")"
   ]
  },
  {
   "cell_type": "code",
   "execution_count": 3,
   "id": "5e32c099-eca0-453d-a80d-6d55e02e2970",
   "metadata": {},
   "outputs": [
    {
     "name": "stdin",
     "output_type": "stream",
     "text": [
      "Add gpa 3\n"
     ]
    }
   ],
   "source": [
    "gpa = float(input(\"Add gpa\"))\n",
    "if 2.0 < gpa:\n",
    "    if gpa > 3.5:\n",
    "        print(\"First Class\")\n",
    "    elif gpa > 3.0 and gpa < 3.5:\n",
    "        print(\"Second Class \", end=\"\")\n",
    "        if gpa > 3.00 and gpa < 3.25:\n",
    "            print(\"Lower\")\n",
    "        else:\n",
    "            print(\"Upper\")\n",
    "    elif gpa > 2.00 and gpa < 3.0:\n",
    "        print(\"pass\")\n",
    "else:\n",
    "    print(\"Fail\")"
   ]
  },
  {
   "cell_type": "code",
   "execution_count": 4,
   "id": "69eef3c4-7e8b-44c8-80e8-2d0b9737434c",
   "metadata": {},
   "outputs": [
    {
     "name": "stdout",
     "output_type": "stream",
     "text": [
      "A\n"
     ]
    }
   ],
   "source": [
    "a = 3300\n",
    "b = 330\n",
    "print(\"A\") if a > b else print(\"=\") if a == b else print(\"B\")"
   ]
  },
  {
   "cell_type": "code",
   "execution_count": 5,
   "id": "50a3946d-657d-4514-8166-befe010d7ae1",
   "metadata": {},
   "outputs": [
    {
     "name": "stdout",
     "output_type": "stream",
     "text": [
      "A\n"
     ]
    }
   ],
   "source": [
    "a = 3300\n",
    "b = 330\n",
    "if a > b:\n",
    "    print(\"A\") \n",
    "else:\n",
    "    if a == b:\n",
    "        print(\"=\") \n",
    "    else: \n",
    "        print(\"B\")"
   ]
  },
  {
   "cell_type": "code",
   "execution_count": 6,
   "id": "c43ecc6b-2c67-43b4-9004-db17a4e1a219",
   "metadata": {},
   "outputs": [
    {
     "data": {
      "text/plain": [
       "'Let’s try to print the Fibonacci sequence in\\nPython.\\n0, 1, 1, 2, 3, 5, 8, 13, 21, 34, ..'"
      ]
     },
     "execution_count": 6,
     "metadata": {},
     "output_type": "execute_result"
    }
   ],
   "source": [
    "\"\"\"Let’s try to print the Fibonacci sequence in\n",
    "Python.\n",
    "0, 1, 1, 2, 3, 5, 8, 13, 21, 34, ..\"\"\""
   ]
  },
  {
   "cell_type": "code",
   "execution_count": 7,
   "id": "948cb75e-d6c4-4df9-8a29-5ec89874e7d9",
   "metadata": {},
   "outputs": [
    {
     "name": "stdout",
     "output_type": "stream",
     "text": [
      "0,1,1,2,3,5,8,13,21,34,55,89,144,233,377,"
     ]
    }
   ],
   "source": [
    "previous_prevous =0 \n",
    "prevous = 1\n",
    "count = 15\n",
    "step = 0\n",
    "while step < count:\n",
    "    if step < 2:\n",
    "        print(step, end=',')\n",
    "    else:\n",
    "        current = prevous+ previous_prevous\n",
    "        print(current, end=',')\n",
    "        previous_prevous = prevous\n",
    "        prevous = current\n",
    "    step += 1"
   ]
  },
  {
   "cell_type": "code",
   "execution_count": 8,
   "id": "ce41b908-ce47-4a14-94d1-ef1cc851a2fc",
   "metadata": {},
   "outputs": [
    {
     "name": "stdout",
     "output_type": "stream",
     "text": [
      "0,1,1,2,3,5,8,13,21,34,"
     ]
    }
   ],
   "source": [
    "print_to, checked = 0, 1\n",
    "step = 0\n",
    "count = 10\n",
    "while step < count: \n",
    "    print(print_to, end=',')\n",
    "    print_to, checked = checked, print_to+checked\n",
    "    step += 1\n",
    "    "
   ]
  },
  {
   "cell_type": "code",
   "execution_count": 9,
   "id": "077dc59b-82a2-4204-a6b5-09593b654182",
   "metadata": {},
   "outputs": [],
   "source": [
    "# % reminder "
   ]
  },
  {
   "cell_type": "code",
   "execution_count": 10,
   "id": "8b7e1da6-a078-4045-9ffc-8fc9e8cdd435",
   "metadata": {},
   "outputs": [
    {
     "name": "stdout",
     "output_type": "stream",
     "text": [
      "[0, 1, 2, 3, 4, 4, 5, 6, 7, 8, 9, 10]\n"
     ]
    }
   ],
   "source": [
    "unsorted = [4, 1, 8, 4, 0, 5, 2, 3, 7, 6, 10, 9]\n",
    "unsorted.sort()\n",
    "print(unsorted)"
   ]
  },
  {
   "cell_type": "code",
   "execution_count": 31,
   "id": "332d903d-c82d-437d-99b8-a6485eec564d",
   "metadata": {},
   "outputs": [
    {
     "name": "stdout",
     "output_type": "stream",
     "text": [
      "[0, 1, 2, 3, 4, 4, 5, 6, 7, 8, 9, 10] sorted => [0, 1, 2, 3, 4, 4, 5, 6, 7, 8, 9, 10]\n",
      "[0, 4, 6, 8, 10, 11, 12, 15] sorted => [0, 4, 6, 8, 10, 11, 12, 15]\n"
     ]
    }
   ],
   "source": [
    "unsorted = [4, 1, 8, 4, 0, 5, 2, 3, 7, 6, 10, 9]\n",
    "count = 0\n",
    "def sorting_fun(unsorted):\n",
    "    print_unsorted = unsorted\n",
    "    for index in range(len(unsorted)): # range starts, default from zero\n",
    "        for index_two in range(len(unsorted)):\n",
    "            if unsorted[index] < unsorted[index_two]:\n",
    "                unsorted[index], unsorted[index_two] = unsorted[index_two], unsorted[index]\n",
    "    \n",
    "    print(f\"{print_unsorted} sorted => {unsorted}\") \n",
    "sorting_fun(unsorted)\n",
    "unsorted = [10,15,8,11,0,6,4,12]\n",
    "sorting_fun(unsorted)"
   ]
  },
  {
   "cell_type": "code",
   "execution_count": 12,
   "id": "f4bd34f7-9886-422d-b62e-11aeed13e25b",
   "metadata": {},
   "outputs": [
    {
     "name": "stdout",
     "output_type": "stream",
     "text": [
      "x=1\n",
      "y=1\n",
      "x=1\n",
      "y=2\n",
      "x=1\n",
      "y=3\n",
      "x=2\n",
      "y=3\n",
      "x=3\n",
      "y=3\n",
      "x=4\n",
      "y=3\n",
      "x=5\n",
      "y=3\n"
     ]
    }
   ],
   "source": [
    "x,y = 1,1\n",
    "while x<6:\n",
    "    while y<6:\n",
    "        print(f\"x={x}\")\n",
    "        print(f\"y={y}\")\n",
    "        if y== 3:\n",
    "            break # only one loop will break\n",
    "        y += 1\n",
    "    x+=1"
   ]
  },
  {
   "cell_type": "code",
   "execution_count": 19,
   "id": "290cf781-9b19-4088-b0fb-c8926f48ac9b",
   "metadata": {},
   "outputs": [
    {
     "name": "stdout",
     "output_type": "stream",
     "text": [
      "End\n",
      "Dead\n"
     ]
    }
   ],
   "source": [
    "# if condition of loop failed it will call else part.\n",
    "# same goes to foor loops, \n",
    "check = True\n",
    "while check:\n",
    "    check =False\n",
    "else:\n",
    "    print(\"End\")\n",
    "\n",
    "check = True\n",
    "while check:\n",
    "    if check:\n",
    "        print(\"Dead\")\n",
    "        break\n",
    "    check = False\n",
    "else:\n",
    "    print(\"Ended\")"
   ]
  },
  {
   "cell_type": "code",
   "execution_count": 40,
   "id": "61dc0503-1b45-4e03-9299-9a0ee6ab6a57",
   "metadata": {},
   "outputs": [
    {
     "name": "stdout",
     "output_type": "stream",
     "text": [
      "          \n",
      "          x\n",
      "         x x\n",
      "        x x x\n",
      "       x x x x\n",
      "      x x x x x\n",
      "     x x x x x x\n",
      "    x x x x x x x\n",
      "   x x x x x x x x\n",
      "  x x x x x x x x x\n",
      " x x x x x x x x x x\n"
     ]
    }
   ],
   "source": [
    "base = 10\n",
    "for index in range(base+1):\n",
    "    print(\" \"*(base-index),end=\"\")\n",
    "    print((\" x\"*index), end=\"\")\n",
    "    print(\"\")\n",
    "    "
   ]
  },
  {
   "cell_type": "code",
   "execution_count": 39,
   "id": "120f77f0-a314-45b2-8a8f-5113e22a8e61",
   "metadata": {},
   "outputs": [
    {
     "name": "stdout",
     "output_type": "stream",
     "text": [
      "1\n",
      "3\n",
      "5\n"
     ]
    }
   ],
   "source": [
    "x = 0\n",
    "while x<6:\n",
    "    x+=1\n",
    "    if x%2==0:\n",
    "        continue\n",
    "    print(x)"
   ]
  },
  {
   "cell_type": "code",
   "execution_count": 17,
   "id": "6a98ea3f-89b4-4ca2-84a9-30e5d40ba547",
   "metadata": {},
   "outputs": [
    {
     "name": "stdout",
     "output_type": "stream",
     "text": [
      "Max 67\n"
     ]
    }
   ],
   "source": [
    "def max_num(*numbers):\n",
    "    if len(numbers) == 0:\n",
    "        print(\"Empty\")\n",
    "    elif len(numbers) == 1:\n",
    "        print(f\"Max number is {number}\")\n",
    "    else:\n",
    "        max = numbers[0]\n",
    "        for index in range(len(numbers)):\n",
    "            if numbers[index] > max:\n",
    "                max = numbers[index]\n",
    "\n",
    "        print(f\"Max {max}\")\n",
    "\n",
    "\n",
    "max_num(1,4,7,20,38,3,1,67,9)\n",
    "        "
   ]
  },
  {
   "cell_type": "code",
   "execution_count": 44,
   "id": "44061d5e-2dc3-4a80-88af-7bb7b88824c7",
   "metadata": {},
   "outputs": [
    {
     "name": "stdout",
     "output_type": "stream",
     "text": [
      "1 is an odd number\n",
      "3 is an odd number\n",
      "5 is an odd number\n",
      "7 is an odd number\n"
     ]
    }
   ],
   "source": [
    "def odd_only(*nums):\n",
    "    for item in nums:\n",
    "        if type(item) != int:\n",
    "            print(\"Invalid inputs\")\n",
    "            return None\n",
    "    for num in nums:\n",
    "        if num%2==0:\n",
    "            continue\n",
    "        print(num, \"is an odd number\")\n",
    "\n",
    "odd_only(1,2,3,4,5,6,7)"
   ]
  },
  {
   "cell_type": "code",
   "execution_count": 53,
   "id": "b49c9957-f111-4c8a-9d41-d696482031eb",
   "metadata": {},
   "outputs": [
    {
     "data": {
      "text/plain": [
       "3.979999999999997"
      ]
     },
     "execution_count": 53,
     "metadata": {},
     "output_type": "execute_result"
    }
   ],
   "source": [
    "def calculate_price(price, tax_rate=0.0, discount=0.0):\n",
    "    if type(price) != float or type(tax_rate) != float or  type(discount) != float:\n",
    "        print(\"Invalid input\")\n",
    "        return None\n",
    "    final_price = price + (price * tax_rate/100) - discount\n",
    "    return final_price\n",
    "calculate_price(20.4,20.0, 20.50)\n"
   ]
  },
  {
   "cell_type": "code",
   "execution_count": null,
   "id": "0d2b49ab-bbe8-4323-8b49-66a842802db9",
   "metadata": {},
   "outputs": [],
   "source": []
  }
 ],
 "metadata": {
  "kernelspec": {
   "display_name": "Python 3 (ipykernel)",
   "language": "python",
   "name": "python3"
  },
  "language_info": {
   "codemirror_mode": {
    "name": "ipython",
    "version": 3
   },
   "file_extension": ".py",
   "mimetype": "text/x-python",
   "name": "python",
   "nbconvert_exporter": "python",
   "pygments_lexer": "ipython3",
   "version": "3.12.2"
  }
 },
 "nbformat": 4,
 "nbformat_minor": 5
}
